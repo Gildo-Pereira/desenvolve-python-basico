{
 "cells": [
  {
   "cell_type": "markdown",
   "id": "559687a1",
   "metadata": {},
   "source": [
    "# Módulo 3 - Condicionais\n",
    "\n",
    "## 3.5 - Decisões Múltiplas"
   ]
  },
  {
   "cell_type": "markdown",
   "id": "42f823b3",
   "metadata": {},
   "source": [
    "### Q1.\n",
    "\n",
    "Vamos fazer uma calculadora! Escreva um programa que solicita 3 entradas: o primeiro operando (float), o operador (caracter) e o segundo operando (float). Seu programa deve imprimir o resultado da operação solicitada, entre soma (+), subtração (-), divisão (/), multiplicação (\\*) ou potência (\\*\\*). Seu programa também deve imprimir uma mensagem de erro se a operação solicitada não estiver dentre as opções disponíveis.\n",
    "\n",
    "Seguem alguns exemplos de interação com seu código no terminal. \n",
    "\n",
    "\n",
    "```\n",
    "Digite o primeiro operando: 5.2\n",
    "Digite o operador (+, -, /, *, **): *\n",
    "Digite o segundo operando` 3\n",
    "Resultado: 5.2 * 3.0 = 15.6\n",
    "```\n",
    "\n",
    "```\n",
    "Digite o primeiro operando: 8\n",
    "Digite o operador (+, -, /, *, **): **\n",
    "Digite o segundo operando: 2\n",
    "Resultado: 8.0 * 2.0 = 64.0\n",
    "```\n",
    "\n",
    "```\n",
    "Digite o primeiro operando: 7\n",
    "Digite o operador (+, -, /, *, **): %\n",
    "Digite o segundo operando: 3.4\n",
    "Erro! Operação inválida. \n",
    "```\n",
    "\n",
    "```\n",
    "Digite o primeiro operando: 10\n",
    "Digite o operador (+, -, /, *, **): /\n",
    "Digite o segundo operando: 2.5\n",
    "Resultado: 10.0 / 2.5 = 4.0\n",
    "```\n",
    "\n"
   ]
  },
  {
   "cell_type": "code",
   "execution_count": 11,
   "id": "c5b8cd4d",
   "metadata": {},
   "outputs": [
    {
     "name": "stdin",
     "output_type": "stream",
     "text": [
      "Digite o primeiro valor:  8\n",
      "Digite o simbulo da operação desejada: soma (+), subtração (-), divisão (/), multiplicação (*) ou potência (**):  8\n",
      "Digite o segundo valor:  5\n"
     ]
    },
    {
     "name": "stdout",
     "output_type": "stream",
     "text": [
      "Operador digitado é invalido!\n"
     ]
    }
   ],
   "source": [
    "## Escreva e execute seu código aqui\n",
    "num1=float(input(\"Digite o primeiro valor: \"))\n",
    "operador=input(\"Digite o simbulo da operação desejada: soma (+), subtração (-), divisão (/), multiplicação (*) ou potência (**): \")\n",
    "num2=float(input(\"Digite o segundo valor: \"))\n",
    "if operador=='+':\n",
    "    print(f\"O resultado da soma de {num1}+{num2} = {num1+num2}\")\n",
    "elif operador=='-':\n",
    "    print(f\"O resultado da subtração de {num1}-{num2} = {num1-num2}\")\n",
    "elif operador=='/':\n",
    "    print(f\"O resultado da divisão de {num1}/{num2} = {num1/num2}\")\n",
    "elif operador=='*':\n",
    "    print(f\"O resultado da multiplicação de {num1}*{num2} = {num1*num2}\")\n",
    "elif operador=='**':\n",
    "    n=1\n",
    "    res=num1\n",
    "    while n<num2:\n",
    "        n+=1\n",
    "        res=res*num1\n",
    "    print(f\"O resultado da potência de {num1} elevado {num2} = {res:,.2f}\")\n",
    "else:\n",
    "    print(\"Operador digitado é invalido!\")"
   ]
  },
  {
   "cell_type": "markdown",
   "id": "d135df39",
   "metadata": {},
   "source": [
    "### Q2.\n",
    "\n",
    "Escreva um programa que leia os comprimentos dos 3 lados de um triângulo e diga se o triângulo é equilátero, isóceles ou escaleno. Regras:\n",
    "- Isóceles: Quaisquer dois lados com o mesmo comprimento\n",
    "- Equilátero: Os três lados tem o mesmo comprimento\n",
    "- Escaleno: Três lados de comprimento diferente \n",
    "\n",
    "Note que a ordem das condições importa! Seguem alguns exemplos de interação com seu código no terminal. \n",
    "\n",
    "```\n",
    "Digite o comprimento do lado 1: 4\n",
    "Digite o comprimento do lado 2: 4\n",
    "Digite o comprimento do lado 3: 6\n",
    "Triângulo: Isóceles\n",
    "```\n",
    "\n",
    "```\n",
    "Digite o comprimento do lado 1: 5\n",
    "Digite o comprimento do lado 2: 5\n",
    "Digite o comprimento do lado 3: 5\n",
    "Triângulo: Equilátero\n",
    "```\n",
    "\n",
    "```\n",
    "Digite o comprimento do lado 1: 7\n",
    "Digite o comprimento do lado 2: 4\n",
    "Digite o comprimento do lado 3: 9\n",
    "Triângulo: Escaleno\n",
    "```\n",
    "\n"
   ]
  },
  {
   "cell_type": "code",
   "execution_count": 20,
   "id": "cfcf9a80",
   "metadata": {},
   "outputs": [
    {
     "name": "stdin",
     "output_type": "stream",
     "text": [
      "Digite o valor do lado A do triangulo:  7\n",
      "Digite o valor do lado B do triangulo:  4\n",
      "Digite o valor do lado C do triangulo:  9\n"
     ]
    },
    {
     "name": "stdout",
     "output_type": "stream",
     "text": [
      "O triângulo é Escaleno\n"
     ]
    }
   ],
   "source": [
    "## Escreva e execute seu código aqui\n",
    "lado_a=float(input(\"Digite o valor do lado A do triangulo: \"))\n",
    "lado_b=float(input(\"Digite o valor do lado B do triangulo: \"))\n",
    "lado_c=float(input(\"Digite o valor do lado C do triangulo: \"))\n",
    "if lado_a==lado_b and lado_b==lado_c:\n",
    "    print(\"O triângulo é Equilátero!\")\n",
    "elif lado_a==lado_b or lado_b==lado_c or lado_a==lado_c:\n",
    "    print(\"O triângulo é Isóceles!\")\n",
    "else:\n",
    "    print(\"O triângulo é Escaleno\")"
   ]
  },
  {
   "cell_type": "markdown",
   "id": "ed3405fb",
   "metadata": {},
   "source": [
    "### Q3.\n",
    "\n",
    "Você está desenvolvendo um sistema de avaliação de desempenho para um jogo. Escreva um programa em Python que avalia a pontuação do jogador em uma missão e atribui uma classificação com base nas seguintes condições:\n",
    "\n",
    "- Se a pontuação for menor que 70, atribua a classificação \"Insatisfatório\".\n",
    "- Se a pontuação for maior ou igual a 70, atribua a classificação \"Regular\".\n",
    "- Se a pontuação for maior ou igual a 80, atribua a classificação \"Bom\".\n",
    "- Se a pontuação for maior ou igual a 90, atribua a classificação \"Excelente\".\n",
    "\n",
    "Escreva um programa que solicita ao usuário a pontuação e imprime a classificação correspondente."
   ]
  },
  {
   "cell_type": "code",
   "execution_count": 26,
   "id": "a7a842ae",
   "metadata": {},
   "outputs": [
    {
     "name": "stdin",
     "output_type": "stream",
     "text": [
      "Digite a pontuação para o jogo:  90\n"
     ]
    },
    {
     "name": "stdout",
     "output_type": "stream",
     "text": [
      "Excelente\n"
     ]
    }
   ],
   "source": [
    "## Escreva e execute seu código aqui\n",
    "pontos=int(input(\"Digite a pontuação para o jogo: \"))\n",
    "if pontos<70:\n",
    "    print(\"Insatisfatório\")\n",
    "elif pontos>=70 and pontos<80:\n",
    "    print(\"Regular\")\n",
    "elif pontos>=80 and pontos<90:\n",
    "    print(\"Bom\")\n",
    "elif pontos>=90:\n",
    "    print(\"Excelente\")"
   ]
  },
  {
   "cell_type": "markdown",
   "id": "6cafaa50",
   "metadata": {},
   "source": [
    "### Q4.\n",
    "\n",
    "Você está implementando um sistema de desconto em uma loja online. Escreva um programa em Python que calcula o desconto com base no valor total da compra e atribui diferentes níveis de desconto de acordo com as seguintes condições:\n",
    "\n",
    "- Se o valor total da compra for menor que R\\$ 50, não há desconto.\n",
    "- Se o valor total da compra for maior ou igual a R\\$ 50, atribua um desconto de 10%.\n",
    "- Se o valor total da compra for maior ou igual a R\\$ 100, atribua um desconto de 20%.\n",
    "\n",
    "\n",
    "Seguem alguns exemplos de interação com seu código no terminal. Preste atenção na formatação esperada para as saídas.\n",
    "\n",
    "```\n",
    "Digite o valor total da compra: 120\n",
    "Desconto aplicado: 20.0%\n",
    "Valor final com desconto: R$96.00\n",
    "```\n",
    "\n",
    "```\n",
    "Digite o valor total da compra: 65\n",
    "Desconto aplicado: 10.0%\n",
    "Valor final com desconto: R$58.50\n",
    "```\n",
    "\n",
    "```\n",
    "Digite o valor total da compra: 40\n",
    "Desconto aplicado: 0.0%\n",
    "Valor final com desconto: R$40.00\n",
    "```\n",
    "\n",
    "\n"
   ]
  },
  {
   "cell_type": "code",
   "execution_count": 45,
   "id": "3b1b1929",
   "metadata": {},
   "outputs": [
    {
     "name": "stdin",
     "output_type": "stream",
     "text": [
      "Digite o valor total da compra:  100\n"
     ]
    },
    {
     "name": "stdout",
     "output_type": "stream",
     "text": [
      "Desconto aplicado: 20.0%\n",
      "Valor final com desconto: R$80.00\n"
     ]
    }
   ],
   "source": [
    "## Escreva e execute seu código aqui\n",
    "valor=float(input(\"Digite o valor total da compra: \"))\n",
    "if valor<50:\n",
    "    print(\"Desconto aplicado: 0.0%\")\n",
    "    print(f\"Valor final com desconto: R${valor:,.2f}\")\n",
    "elif valor>=50 and valor<100:\n",
    "    desconto=valor*0.1\n",
    "    print(f\"Desconto aplicado: 10.0%\")\n",
    "    print(f\"Valor final com desconto: R${valor-desconto:,.2f}\")\n",
    "elif valor>=100:\n",
    "    desconto=valor*0.2\n",
    "    print(f\"Desconto aplicado: 20.0%\")\n",
    "    print(f\"Valor final com desconto: R${valor-desconto:,.2f}\")\n",
    "\n"
   ]
  },
  {
   "cell_type": "markdown",
   "id": "dc5db6d7",
   "metadata": {},
   "source": [
    "### Q5.\n",
    "\n",
    "Crie um sistema de autenticação em Python. O sistema deve funcionar da\n",
    "seguinte maneira:\n",
    "\n",
    "1. Um banco de dados fictício deve ser implementado como um dicionário,\n",
    "onde a chave é o nome do usuário e o valor é uma tupla contendo a senha e\n",
    "o nível de acesso do usuário.\n",
    "\n",
    "2. O programa deve solicitar ao usuário que insira seu usuário e senha.\n",
    "\n",
    "3. O sistema deve:\n",
    "* Verificar se o login existe no banco de dados.\n",
    "* Comparar a senha fornecida com a armazenada no banco.\n",
    "* Caso as credenciais sejam válidas, exibir uma mensagem de sucesso e o nível de acesso do usuário.\n",
    "* Caso seja inválido deverá retornar mensagem: “Erro: Usuário ou\n",
    "senha inválidos.”\n",
    "* O programa deve rodar em um laço para permitir múltiplas\n",
    "tentativas de login, mas também permitir que o usuário opte por sair\n",
    "do programa.\n",
    "\n",
    "Atributos dos 3 usuários cadastrados no sistema (usuário, senha e nível)\n",
    "\n",
    "1) admin – admin123 – Administrador\n",
    "2) usuario1 – senha123 – Usuário Comum\n",
    "3) visitante1 – guest2024 – Visitante"
   ]
  },
  {
   "cell_type": "code",
   "execution_count": null,
   "id": "f6de0f6f-8736-42df-8bce-6d89a6044ce8",
   "metadata": {},
   "outputs": [],
   "source": []
  },
  {
   "cell_type": "code",
   "execution_count": 51,
   "id": "b90304eb",
   "metadata": {},
   "outputs": [
    {
     "name": "stdin",
     "output_type": "stream",
     "text": [
      "Digite o nome do usuário (ou 'sair' para encerrar):  sair\n"
     ]
    }
   ],
   "source": [
    "## Escreva e execute seu código aqui\n",
    "# Banco de dados fictício\n",
    "usuarios = {\n",
    "    \"admin\": (\"admin123\", \"Administrador\"),\n",
    "    \"usuario1\": (\"senha123\", \"Usuário Comum\"),\n",
    "    \"visitante1\": (\"guest2024\", \"Visitante\")\n",
    "}\n",
    "while True:\n",
    "    usuario = input(\"Digite o nome do usuário (ou 'sair' para encerrar): \")\n",
    "    if usuario.lower() == 'sair':\n",
    "        break\n",
    "    senha = input(\"Digite a senha: \")\n",
    "    if usuario in usuarios:\n",
    "        senha_correta, nivel_acesso = usuarios[usuario]\n",
    "        if senha == senha_correta:\n",
    "            print(f\"Login bem-sucedido!Usuário: {usuario} Nível de acesso: {nivel_acesso}\")\n",
    "        else:\n",
    "            print(\"\\nErro: Usuário ou senha inválidos.\")\n",
    "    else:\n",
    "        print(\"\\nErro: Usuário ou senha inválidos.\")\n"
   ]
  }
 ],
 "metadata": {
  "kernelspec": {
   "display_name": "Python 3 (ipykernel)",
   "language": "python",
   "name": "python3"
  },
  "language_info": {
   "codemirror_mode": {
    "name": "ipython",
    "version": 3
   },
   "file_extension": ".py",
   "mimetype": "text/x-python",
   "name": "python",
   "nbconvert_exporter": "python",
   "pygments_lexer": "ipython3",
   "version": "3.12.2"
  }
 },
 "nbformat": 4,
 "nbformat_minor": 5
}
